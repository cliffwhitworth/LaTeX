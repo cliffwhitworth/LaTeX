{
 "cells": [
  {
   "cell_type": "markdown",
   "metadata": {},
   "source": [
    "## LaTeX for Stats\n",
    "https://en.wikipedia.org/wiki/LaTeX<br />\n",
    "https://en.m.wikibooks.org/wiki/LaTeX/Mathematics<br />\n",
    "https://stackoverflow.com/questions/13208286/how-to-write-latex-in-ipython-notebook<br />\n",
    "https://stattrek.com/statistics/notation.aspx"
   ]
  },
  {
   "cell_type": "markdown",
   "metadata": {},
   "source": [
    "### Exponents\n",
    "<br />\n",
    "$$\n",
    "x^\\frac{1}{n} = \\sqrt[n]{x}\n",
    "$$\n",
    "<br />\n",
    "$$\n",
    "x^{-2} = \\frac{1}{x^2}\n",
    "$$"
   ]
  },
  {
   "cell_type": "markdown",
   "metadata": {},
   "source": [
    "### Mean (moment 1)\n",
    "<br />\n",
    "$$\n",
    "\\mu = \\frac{1}{N} \\sum_{i=1}^{N} x_i\n",
    "$$"
   ]
  },
  {
   "cell_type": "markdown",
   "metadata": {},
   "source": [
    "### Variance (moment 2)\n",
    "<br />\n",
    "$$\n",
    "\\sigma^2 = \\frac{1}{N}\\sum({x}-\\bar{x})^2\n",
    "$$\n",
    "<br />\n",
    "$$\n",
    "s^2 = \\frac{\\sum(x-\\bar{x})^2}{n-1}\n",
    "$$"
   ]
  },
  {
   "cell_type": "markdown",
   "metadata": {},
   "source": [
    "### Skewness (moment 3)\n",
    "<br />\n",
    "$$\n",
    "\\frac{\\frac{1}{n}\\sum(x - \\mu)^3}{\\sigma^3}\n",
    "$$"
   ]
  },
  {
   "cell_type": "markdown",
   "metadata": {},
   "source": [
    "### Kurtosis (moment 4)\n",
    "<br />\n",
    "$$\n",
    "\\frac{\\frac{1}{n}\\sum(x - \\mu)^4}{\\sigma^4}\n",
    "$$"
   ]
  },
  {
   "cell_type": "markdown",
   "metadata": {},
   "source": [
    "### Standard Deviation\n",
    "<br />\n",
    "$$\n",
    "\\sigma = \\sqrt{\\frac{1}{N}\\sum(x-\\bar{x})^2}\n",
    "$$"
   ]
  },
  {
   "cell_type": "markdown",
   "metadata": {},
   "source": [
    "### Covariance\n",
    "<br />\n",
    "$$\n",
    "cov(x, y) = \\frac{1}{N} \\sum_{i=1}^{N}(x_i - \\bar{x}) (y_i - \\bar{y})\n",
    "$$"
   ]
  },
  {
   "cell_type": "markdown",
   "metadata": {},
   "source": [
    "### Pearson's Correlation Coefficient\n",
    "<br />\n",
    "$$\n",
    "\\rho_{x,y} = \\frac{cov(x,y)}{\\sigma_x\\sigma_y} = \\frac{\\frac{1}{N}\\sum(x-\\bar{x})(y-\\bar{y})}{\\sqrt\\frac{\\sum(x-\\bar{x})^2}{N}\\sqrt\\frac{\\sum(y-\\bar{y})^2}{N}}  = \\frac{\\sum(x-\\bar{x})(y-\\bar{y})}{\\sqrt{\\sum(x-\\bar{x})^2}\\sqrt{\\sum(y-\\bar{y})^2}}\n",
    "$$"
   ]
  },
  {
   "cell_type": "markdown",
   "metadata": {},
   "source": [
    "### R squared (Coefficient of Determination)\n",
    "<br />\n",
    "$$\n",
    "r^2 = ESS/TSS = 1 - RSS/TSS\n",
    "$$\n",
    "<br />\n",
    "$$\n",
    "ESS = \\sum(\\hat{y} - \\bar{y})^2\n",
    "$$\n",
    "<br />\n",
    "$$\n",
    "RSS = \\sum(y - \\hat{y})^2\n",
    "$$\n",
    "<br />\n",
    "$$\n",
    "TSS = \\sum(y - \\bar{y})^2\n",
    "$$"
   ]
  },
  {
   "cell_type": "markdown",
   "metadata": {},
   "source": [
    "### Mean Squared Error (MSE)\n",
    "<br />\n",
    "$$\n",
    "mse = \\frac{\\sum(y-\\hat{y})^2}{n}\n",
    "$$"
   ]
  },
  {
   "cell_type": "markdown",
   "metadata": {},
   "source": [
    "### Permutations\n",
    "<br />\n",
    "$$\n",
    "_{n}P_r = \\frac{n!}{(n-r)!}\n",
    "$$\n",
    "\n",
    "### With Repetition\n",
    "<br />\n",
    "$$\n",
    "n^r\n",
    "$$"
   ]
  },
  {
   "cell_type": "markdown",
   "metadata": {},
   "source": [
    "### Combinations\n",
    "<br />\n",
    "$$\n",
    "C(n,r) = C_k^{n} = {_nC_r} = \\binom {n}{r}  = \\frac{n!}{r!(n-r)!}\n",
    "$$\n",
    "<br />\n",
    "another method\n",
    "<br />\n",
    "$$\n",
    "\\left(\n",
    "    \\begin{array}{c}\n",
    "      n \\\\\n",
    "      r\n",
    "    \\end{array}\n",
    "  \\right) = \\frac{n!}{r!(n-r)!}\n",
    "$$\n",
    "\n",
    "### With Repetition\n",
    "<br />\n",
    "$$\n",
    "_{n+r-1}C_r = \\frac{(n+r-1)!}{r!(n-1)!}\n",
    "$$"
   ]
  },
  {
   "cell_type": "markdown",
   "metadata": {},
   "source": [
    "### Intersections\n",
    "<br />\n",
    "$$\n",
    "A \\cap B = \\{\\: x: x \\in A \\: and \\: x \\in B \\:\\}$$\n",
    "<br />\n",
    "#### Independent\n",
    "<br />\n",
    "$$\n",
    "P(A \\cap B) = P(A) * P(B)\n",
    "$$\n",
    "\n",
    "#### Dependent\n",
    "<br />\n",
    "$$\n",
    "P(A \\cap B) = P(A) * P(B|A)\n",
    "$$"
   ]
  },
  {
   "cell_type": "markdown",
   "metadata": {},
   "source": [
    "### Unions\n",
    "$$\n",
    "P(A \\cup B) = P(A) + P(B) - P(A \\cap B)\n",
    "$$\n",
    "\n",
    "#### If Mutually Exclusive\n",
    "$$\n",
    "P(A \\cup B) = P(A) + P(B)\n",
    "$$"
   ]
  },
  {
   "cell_type": "markdown",
   "metadata": {},
   "source": [
    "### Conditional Probability\n",
    "<br />\n",
    "$$\n",
    "P(A|B) = \\frac{P(A \\cap B)}{P(B)}\n",
    "$$"
   ]
  },
  {
   "cell_type": "markdown",
   "metadata": {},
   "source": [
    "### Bayes' Theorem\n",
    "<br />\n",
    "$$\n",
    "P(A|B) = \\frac{P(B|A) P(A)}{P(B)}\n",
    "$$\n",
    "<br />\n",
    "$$\n",
    "P(B) = P(B|A) P(A) + P(B|\\bar{A}) P(\\bar{A})\n",
    "$$"
   ]
  },
  {
   "cell_type": "markdown",
   "metadata": {},
   "source": [
    "### Binomial Distribution\n",
    "<br />\n",
    "$$\n",
    "P(x: n,p) = \\binom {n}{x} p^x (1 - p)^{(n-x)}\n",
    "$$"
   ]
  },
  {
   "cell_type": "markdown",
   "metadata": {},
   "source": [
    "### Poisson Distribution\n",
    "<br />\n",
    "$$\n",
    "P(x) = \\frac{\\gamma^xe^{-\\gamma}}{x!}\n",
    "$$\n",
    "<br />\n",
    "$$\n",
    "\\gamma = \\mu\n",
    "$$"
   ]
  },
  {
   "cell_type": "markdown",
   "metadata": {},
   "source": [
    "### Normal Distribution\n",
    "<br />\n",
    "$$\n",
    "f(x | \\mu, \\sigma^2) = \\frac{1}{\\sqrt{2\\pi\\sigma^2}}\\large{e^\\frac{-(x-\\mu)^2}{2\\sigma^2}}\n",
    "$$"
   ]
  },
  {
   "cell_type": "markdown",
   "metadata": {},
   "source": [
    "### Student's T\n",
    "<br />\n",
    "$$\n",
    "f(t) = \\frac{\\Gamma(\\frac{\\nu+1}{2})}{\\sqrt{\\nu\\pi}\\Gamma(\\frac{\\nu}{2})}{(1+\\frac{t^2}{\\nu})^{-\\frac{(\\nu+1)}{2}}}\n",
    "$$"
   ]
  },
  {
   "cell_type": "markdown",
   "metadata": {},
   "source": [
    "### z Score\n",
    "<br />\n",
    "$$\n",
    "z = \\frac{x - \\mu}{\\sigma}\n",
    "$$"
   ]
  },
  {
   "cell_type": "markdown",
   "metadata": {},
   "source": [
    "### Standard Error of the Mean\n",
    "<br />\n",
    "$$\n",
    "\\sigma_\\bar{x} = \\frac{\\sigma}{\\sqrt{n}}\n",
    "$$"
   ]
  },
  {
   "cell_type": "markdown",
   "metadata": {},
   "source": [
    "### Standard Error of the Estimate\n",
    "<br />\n",
    "$$\n",
    "\\sigma_{est} = \\sqrt{\\frac{\\sum(y - \\hat{y})}{N}}\n",
    "$$"
   ]
  },
  {
   "cell_type": "markdown",
   "metadata": {},
   "source": [
    "### Test of Means\n",
    "<br />\n",
    "$$\n",
    "H_0: \\mu = \\mu\n",
    "$$\n",
    "<br />\n",
    "$$\n",
    "H_a: \\mu \\neq \\mu\n",
    "$$\n",
    "<br />\n",
    "$$\n",
    "z = \\frac{\\bar{x} - \\mu}{\\sigma/\\sqrt{n}}\n",
    "$$\n",
    "\n",
    "### Test of Proportions\n",
    "<br />\n",
    "$$\n",
    "z = \\frac{\\hat{p} - p}{\\sqrt{\\frac{p (1 - p)}{n}}}\n",
    "$$<br />\n",
    "### One Sample T Test\n",
    "<br />\n",
    "$$\n",
    "t = \\frac{\\bar{x} - \\mu}{s/\\sqrt{n}}\n",
    "$$\n"
   ]
  },
  {
   "cell_type": "markdown",
   "metadata": {},
   "source": [
    "### Two Sample T Test for Equal Means\n",
    "<br />\n",
    "$$\n",
    "t = \\frac{\\bar{x}_1 - \\bar{x}_2}{\\sqrt{\\frac{{s_1}^2}{n_1} + \\frac{{s_2}^2}{n_2}}}\n",
    "$$"
   ]
  },
  {
   "cell_type": "markdown",
   "metadata": {},
   "source": [
    "### Joint Random Variables\n",
    "#### With Correlation > 0\n",
    "<br />\n",
    "$$\n",
    "var(aX + bY) = a^2\\sigma_X^2 + b^2\\sigma_Y^2 + 2ab*corr(X,Y)\\sigma_X\\sigma_Y\n",
    "$$\n",
    "\n",
    "#### With Correlation = 0\n",
    "<br />\n",
    "$$\n",
    "var(aX + bY) = a^2\\sigma_X^2 + b^2\\sigma_Y^2\n",
    "$$"
   ]
  },
  {
   "cell_type": "markdown",
   "metadata": {},
   "source": [
    "### Confidence Intervals\n",
    "#### Unknown Mean and Known Standard Deviation\n",
    "<br />\n",
    "$$\n",
    "E[x] \\pm z*\\frac{\\sigma}{\\sqrt{n}}\n",
    "$$\n",
    "\n",
    "#### Unknown Mean and Unknown Standard Deviation\n",
    "<br />\n",
    "$$\n",
    "E[x] \\pm t*\\frac{s}{\\sqrt{n}}\n",
    "$$"
   ]
  },
  {
   "cell_type": "markdown",
   "metadata": {},
   "source": [
    "### Confidence Interval for the Population Proportion\n",
    "<br />\n",
    "$$\n",
    "\\hat{p} \\pm z * \\sqrt{\\frac{\\hat{p}(1-\\hat{p})}{n}}\n",
    "$$"
   ]
  },
  {
   "cell_type": "markdown",
   "metadata": {},
   "source": [
    "### ANOVA\n",
    "<br />\n",
    "$$\n",
    "F = \\frac{\\frac{SSG}{ngroups-1}}{\\frac{SSE}{(n_{rows}-1)*n_{groups}}}\n",
    "$$"
   ]
  },
  {
   "cell_type": "markdown",
   "metadata": {},
   "source": [
    "### TWO WAY ANOVA\n",
    "<br />\n",
    "$$\n",
    "F = \\frac{\\frac{SSG}{ngroups-1}}{\\frac{SST-SSG-SSB}{(n_{blocks}-1)*(n_{groups}-1)}}\n",
    "$$"
   ]
  },
  {
   "cell_type": "markdown",
   "metadata": {},
   "source": [
    "### TWO WAY ANOVA WITH REPLICATION\n",
    "<br />\n",
    "$$\n",
    "F = \\frac{\\frac{SSG}{ngroups-1}}{\\frac{SST-SSG-SSB-SSI}{n_{blocks}*n_{groups}*(n_{items} - 1)}}\n",
    "$$"
   ]
  },
  {
   "cell_type": "markdown",
   "metadata": {},
   "source": [
    "### Linear Regression\n",
    "<br />\n",
    "$$\n",
    "\\hat{y} = b_0 + b_1x\n",
    "$$\n",
    "<br />\n",
    "$$\n",
    "b_0 = \\bar{y} - b_1\\bar{x}$$\n",
    "<br />\n",
    "$$\n",
    "b_1 = \\rho_{xy}\\frac{\\sigma_y}{\\sigma_x}$$"
   ]
  },
  {
   "cell_type": "markdown",
   "metadata": {},
   "source": [
    "### Chi-Square\n",
    "<br />\n",
    "$$\n",
    "\\chi^2 = \\sum\\frac{(O - E)^2}{E}$$"
   ]
  }
 ],
 "metadata": {
  "kernelspec": {
   "display_name": "Python 3",
   "language": "python",
   "name": "python3"
  },
  "language_info": {
   "codemirror_mode": {
    "name": "ipython",
    "version": 3
   },
   "file_extension": ".py",
   "mimetype": "text/x-python",
   "name": "python",
   "nbconvert_exporter": "python",
   "pygments_lexer": "ipython3",
   "version": "3.6.3"
  }
 },
 "nbformat": 4,
 "nbformat_minor": 2
}
