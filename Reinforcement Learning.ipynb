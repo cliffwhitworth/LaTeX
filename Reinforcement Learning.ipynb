{
 "cells": [
  {
   "cell_type": "markdown",
   "metadata": {},
   "source": [
    "## LaTeX for Reinforcement Learning\n",
    "\n",
    "https://en.wikipedia.org/wiki/LaTeX<br />\n",
    "https://en.m.wikibooks.org/wiki/LaTeX/Mathematics<br />\n",
    "https://stackoverflow.com/questions/13208286/how-to-write-latex-in-ipython-notebook<br />\n",
    "https://en.wikipedia.org/wiki/Reinforcement_learning<br />\n",
    "https://www.udemy.com/ai-for-business/"
   ]
  },
  {
   "cell_type": "markdown",
   "metadata": {},
   "source": [
    "### Bellman Equation\n",
    "<br />\n",
    "$$\n",
    "V(s) = max_{\\alpha}(R(s,a) + \\gamma V(s^{'}))\n",
    "$$"
   ]
  },
  {
   "cell_type": "markdown",
   "metadata": {},
   "source": [
    "### Markov Decision Process Framework\n",
    "<br />\n",
    "$$\n",
    "V(s) = max_{\\alpha}(R(s,a) + \\gamma \\sum_{s^{'}}P(s,a,s^{'})V(s^{'}))\n",
    "$$"
   ]
  },
  {
   "cell_type": "markdown",
   "metadata": {},
   "source": [
    "### Q-Learning\n",
    "<br />\n",
    "$$\n",
    "Q(s,a) = R(s,a) + \\gamma \\sum_{s^{'}}(P(s,a,s^{'})max_{a^{'}}Q(s^{'},a^{'}))\n",
    "$$\n",
    "<br />or simplified<br />\n",
    "$$\n",
    "Q(s,a) = R(s,a) + \\gamma max_{a^{'}}Q(s^{'},a^{'})\n",
    "$$"
   ]
  },
  {
   "cell_type": "markdown",
   "metadata": {},
   "source": [
    "### Temporal Difference\n",
    "<br />\n",
    "$$\n",
    "TD(a,s) = R(s,a) + \\gamma max_{a^{'}}Q(s^{'},a^{'}) - Q_{t-1}(s, a)\n",
    "$$\n",
    "<br />\n",
    "$$\n",
    "Q_t(s,a) = Q_{t-1}(s,a) + \\alpha TD_t(a,s)\n",
    "$$\n",
    "<br />\n",
    "$$\n",
    "Q_t(s,a) = Q_{t-1}(s,a) + \\alpha (R(s,a) + \\gamma max_{a^{'}}Q(s^{'},a^{'}) - Q_{t-1}(s, a))\n",
    "$$"
   ]
  }
 ],
 "metadata": {
  "kernelspec": {
   "display_name": "Python 3",
   "language": "python",
   "name": "python3"
  },
  "language_info": {
   "codemirror_mode": {
    "name": "ipython",
    "version": 3
   },
   "file_extension": ".py",
   "mimetype": "text/x-python",
   "name": "python",
   "nbconvert_exporter": "python",
   "pygments_lexer": "ipython3",
   "version": "3.6.3"
  }
 },
 "nbformat": 4,
 "nbformat_minor": 2
}
