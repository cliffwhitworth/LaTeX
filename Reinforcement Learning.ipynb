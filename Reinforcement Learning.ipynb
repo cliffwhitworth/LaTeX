{
 "cells": [
  {
   "cell_type": "markdown",
   "metadata": {},
   "source": [
    "## LaTeX for Reinforcement Learning\n",
    "\n",
    "https://en.wikipedia.org/wiki/LaTeX<br />\n",
    "https://en.m.wikibooks.org/wiki/LaTeX/Mathematics<br />\n",
    "https://stackoverflow.com/questions/13208286/how-to-write-latex-in-ipython-notebook<br />\n",
    "https://en.wikipedia.org/wiki/Reinforcement_learning"
   ]
  },
  {
   "cell_type": "markdown",
   "metadata": {},
   "source": [
    "### Bellman Equation\n",
    "<br />\n",
    "$$\n",
    "V(s) = max_\\alpha(R(s,a) + \\gammaV(s^'))\n",
    "$$"
   ]
  }
 ],
 "metadata": {
  "kernelspec": {
   "display_name": "Python 3",
   "language": "python",
   "name": "python3"
  },
  "language_info": {
   "codemirror_mode": {
    "name": "ipython",
    "version": 3
   },
   "file_extension": ".py",
   "mimetype": "text/x-python",
   "name": "python",
   "nbconvert_exporter": "python",
   "pygments_lexer": "ipython3",
   "version": "3.6.3"
  }
 },
 "nbformat": 4,
 "nbformat_minor": 2
}
